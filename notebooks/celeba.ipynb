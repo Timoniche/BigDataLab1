{
 "cells": [
  {
   "cell_type": "code",
   "execution_count": 7,
   "outputs": [],
   "source": [
    "from tqdm import tqdm\n",
    "from sklearn.metrics import accuracy_score\n",
    "from statistics import mean\n",
    "\n",
    "import pickle"
   ],
   "metadata": {
    "collapsed": false,
    "ExecuteTime": {
     "end_time": "2024-04-18T21:06:13.639417Z",
     "start_time": "2024-04-18T21:06:13.621180Z"
    }
   },
   "id": "34f652951c7469ff"
  },
  {
   "cell_type": "code",
   "execution_count": 2,
   "outputs": [],
   "source": [
    "with open('./../experiments/random_forest_pretrained.pkl', 'rb') as f:\n",
    "    rf_classifier = pickle.load(f)"
   ],
   "metadata": {
    "collapsed": true,
    "ExecuteTime": {
     "end_time": "2024-04-18T20:13:16.460461Z",
     "start_time": "2024-04-18T20:13:15.648461Z"
    }
   },
   "id": "initial_id"
  },
  {
   "cell_type": "code",
   "execution_count": 3,
   "outputs": [],
   "source": [
    "from img_with_name_dataloader import prepare_celeba_dataloader_with_names\n",
    "from trainer import male_condition_extractor, BATCH_SIZE\n",
    "\n",
    "img_to_male = male_condition_extractor()\n",
    "dataloader, n_samples = prepare_celeba_dataloader_with_names(\n",
    "    img_to_male=img_to_male,\n",
    "    batch_size=BATCH_SIZE,\n",
    ")"
   ],
   "metadata": {
    "collapsed": false,
    "ExecuteTime": {
     "end_time": "2024-04-18T20:15:13.677124Z",
     "start_time": "2024-04-18T20:15:08.738910Z"
    }
   },
   "id": "67a4dacb135d542c"
  },
  {
   "cell_type": "code",
   "execution_count": 8,
   "outputs": [
    {
     "name": "stderr",
     "output_type": "stream",
     "text": [
      "1583it [01:57, 13.52it/s]                          \n"
     ]
    }
   ],
   "source": [
    "accs = []\n",
    "cnt = n_samples // BATCH_SIZE\n",
    "for i, (real_images, img_names, hog_embs, is_male) in tqdm(\n",
    "        enumerate(dataloader),\n",
    "        total=cnt,\n",
    "):\n",
    "    preds = rf_classifier.predict(hog_embs)\n",
    "    acc = accuracy_score(is_male, preds)\n",
    "    accs.append(acc)"
   ],
   "metadata": {
    "collapsed": false,
    "ExecuteTime": {
     "end_time": "2024-04-18T21:08:15.268952Z",
     "start_time": "2024-04-18T21:06:15.697534Z"
    }
   },
   "id": "735e3e66a2df4c4f"
  },
  {
   "cell_type": "code",
   "execution_count": 9,
   "outputs": [
    {
     "name": "stdout",
     "output_type": "stream",
     "text": [
      "0.7480805750126962\n"
     ]
    }
   ],
   "source": [
    "print(mean(accs))"
   ],
   "metadata": {
    "collapsed": false,
    "ExecuteTime": {
     "end_time": "2024-04-18T21:08:18.011942Z",
     "start_time": "2024-04-18T21:08:18.008997Z"
    }
   },
   "id": "4085d8011d1f2690"
  },
  {
   "cell_type": "code",
   "execution_count": null,
   "outputs": [],
   "source": [],
   "metadata": {
    "collapsed": false
   },
   "id": "bca21fa5572b912"
  }
 ],
 "metadata": {
  "kernelspec": {
   "display_name": "Python 3",
   "language": "python",
   "name": "python3"
  },
  "language_info": {
   "codemirror_mode": {
    "name": "ipython",
    "version": 2
   },
   "file_extension": ".py",
   "mimetype": "text/x-python",
   "name": "python",
   "nbconvert_exporter": "python",
   "pygments_lexer": "ipython2",
   "version": "2.7.6"
  }
 },
 "nbformat": 4,
 "nbformat_minor": 5
}
